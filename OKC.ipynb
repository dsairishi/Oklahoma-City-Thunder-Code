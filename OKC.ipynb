{
 "cells": [
  {
   "cell_type": "code",
   "execution_count": 1,
   "id": "027424c2",
   "metadata": {},
   "outputs": [],
   "source": [
    "# Importing pandas and numoy\n",
    "import pandas as pd \n",
    "import numpy as np"
   ]
  },
  {
   "cell_type": "code",
   "execution_count": 2,
   "id": "f4a0d48a",
   "metadata": {},
   "outputs": [],
   "source": [
    "# Reading csv file\n",
    "df = pd.read_csv(\"O:/Jobs/OKC/Datasets/shots_data.csv\")"
   ]
  },
  {
   "cell_type": "code",
   "execution_count": 3,
   "id": "a8ff0a46",
   "metadata": {},
   "outputs": [
    {
     "data": {
      "text/html": [
       "<div>\n",
       "<style scoped>\n",
       "    .dataframe tbody tr th:only-of-type {\n",
       "        vertical-align: middle;\n",
       "    }\n",
       "\n",
       "    .dataframe tbody tr th {\n",
       "        vertical-align: top;\n",
       "    }\n",
       "\n",
       "    .dataframe thead th {\n",
       "        text-align: right;\n",
       "    }\n",
       "</style>\n",
       "<table border=\"1\" class=\"dataframe\">\n",
       "  <thead>\n",
       "    <tr style=\"text-align: right;\">\n",
       "      <th></th>\n",
       "      <th>team</th>\n",
       "      <th>x</th>\n",
       "      <th>y</th>\n",
       "      <th>fgmade</th>\n",
       "    </tr>\n",
       "  </thead>\n",
       "  <tbody>\n",
       "    <tr>\n",
       "      <th>0</th>\n",
       "      <td>Team A</td>\n",
       "      <td>-23.1</td>\n",
       "      <td>3.5</td>\n",
       "      <td>0</td>\n",
       "    </tr>\n",
       "    <tr>\n",
       "      <th>1</th>\n",
       "      <td>Team A</td>\n",
       "      <td>0.0</td>\n",
       "      <td>25.1</td>\n",
       "      <td>1</td>\n",
       "    </tr>\n",
       "    <tr>\n",
       "      <th>2</th>\n",
       "      <td>Team A</td>\n",
       "      <td>0.5</td>\n",
       "      <td>1.0</td>\n",
       "      <td>1</td>\n",
       "    </tr>\n",
       "    <tr>\n",
       "      <th>3</th>\n",
       "      <td>Team A</td>\n",
       "      <td>-5.6</td>\n",
       "      <td>5.2</td>\n",
       "      <td>0</td>\n",
       "    </tr>\n",
       "    <tr>\n",
       "      <th>4</th>\n",
       "      <td>Team A</td>\n",
       "      <td>4.0</td>\n",
       "      <td>14.5</td>\n",
       "      <td>1</td>\n",
       "    </tr>\n",
       "    <tr>\n",
       "      <th>5</th>\n",
       "      <td>Team A</td>\n",
       "      <td>-13.6</td>\n",
       "      <td>4.0</td>\n",
       "      <td>1</td>\n",
       "    </tr>\n",
       "    <tr>\n",
       "      <th>6</th>\n",
       "      <td>Team A</td>\n",
       "      <td>-9.0</td>\n",
       "      <td>7.2</td>\n",
       "      <td>1</td>\n",
       "    </tr>\n",
       "    <tr>\n",
       "      <th>7</th>\n",
       "      <td>Team A</td>\n",
       "      <td>-1.2</td>\n",
       "      <td>1.5</td>\n",
       "      <td>1</td>\n",
       "    </tr>\n",
       "    <tr>\n",
       "      <th>8</th>\n",
       "      <td>Team A</td>\n",
       "      <td>-9.2</td>\n",
       "      <td>15.3</td>\n",
       "      <td>0</td>\n",
       "    </tr>\n",
       "    <tr>\n",
       "      <th>9</th>\n",
       "      <td>Team A</td>\n",
       "      <td>-16.8</td>\n",
       "      <td>20.5</td>\n",
       "      <td>1</td>\n",
       "    </tr>\n",
       "  </tbody>\n",
       "</table>\n",
       "</div>"
      ],
      "text/plain": [
       "     team     x     y  fgmade\n",
       "0  Team A -23.1   3.5       0\n",
       "1  Team A   0.0  25.1       1\n",
       "2  Team A   0.5   1.0       1\n",
       "3  Team A  -5.6   5.2       0\n",
       "4  Team A   4.0  14.5       1\n",
       "5  Team A -13.6   4.0       1\n",
       "6  Team A  -9.0   7.2       1\n",
       "7  Team A  -1.2   1.5       1\n",
       "8  Team A  -9.2  15.3       0\n",
       "9  Team A -16.8  20.5       1"
      ]
     },
     "execution_count": 3,
     "metadata": {},
     "output_type": "execute_result"
    }
   ],
   "source": [
    "# Displaying some rows of data set.\n",
    "df.head(10)"
   ]
  },
  {
   "cell_type": "code",
   "execution_count": 4,
   "id": "cef9fb77",
   "metadata": {},
   "outputs": [],
   "source": [
    "# Calculating Radius which is give by formulae :-  r = \\sqrt{(x_2 - x_1)^2 + (y_2-y_1)^2}\n",
    "df[\"Radius\"] = np.sqrt((df['x']**2) + (df['y']**2))"
   ]
  },
  {
   "cell_type": "code",
   "execution_count": 5,
   "id": "0283b9e7",
   "metadata": {},
   "outputs": [
    {
     "data": {
      "text/html": [
       "<div>\n",
       "<style scoped>\n",
       "    .dataframe tbody tr th:only-of-type {\n",
       "        vertical-align: middle;\n",
       "    }\n",
       "\n",
       "    .dataframe tbody tr th {\n",
       "        vertical-align: top;\n",
       "    }\n",
       "\n",
       "    .dataframe thead th {\n",
       "        text-align: right;\n",
       "    }\n",
       "</style>\n",
       "<table border=\"1\" class=\"dataframe\">\n",
       "  <thead>\n",
       "    <tr style=\"text-align: right;\">\n",
       "      <th></th>\n",
       "      <th>team</th>\n",
       "      <th>x</th>\n",
       "      <th>y</th>\n",
       "      <th>fgmade</th>\n",
       "      <th>Radius</th>\n",
       "    </tr>\n",
       "  </thead>\n",
       "  <tbody>\n",
       "    <tr>\n",
       "      <th>0</th>\n",
       "      <td>Team A</td>\n",
       "      <td>-23.1</td>\n",
       "      <td>3.5</td>\n",
       "      <td>0</td>\n",
       "      <td>23.363647</td>\n",
       "    </tr>\n",
       "    <tr>\n",
       "      <th>1</th>\n",
       "      <td>Team A</td>\n",
       "      <td>0.0</td>\n",
       "      <td>25.1</td>\n",
       "      <td>1</td>\n",
       "      <td>25.100000</td>\n",
       "    </tr>\n",
       "    <tr>\n",
       "      <th>2</th>\n",
       "      <td>Team A</td>\n",
       "      <td>0.5</td>\n",
       "      <td>1.0</td>\n",
       "      <td>1</td>\n",
       "      <td>1.118034</td>\n",
       "    </tr>\n",
       "    <tr>\n",
       "      <th>3</th>\n",
       "      <td>Team A</td>\n",
       "      <td>-5.6</td>\n",
       "      <td>5.2</td>\n",
       "      <td>0</td>\n",
       "      <td>7.641989</td>\n",
       "    </tr>\n",
       "    <tr>\n",
       "      <th>4</th>\n",
       "      <td>Team A</td>\n",
       "      <td>4.0</td>\n",
       "      <td>14.5</td>\n",
       "      <td>1</td>\n",
       "      <td>15.041609</td>\n",
       "    </tr>\n",
       "  </tbody>\n",
       "</table>\n",
       "</div>"
      ],
      "text/plain": [
       "     team     x     y  fgmade     Radius\n",
       "0  Team A -23.1   3.5       0  23.363647\n",
       "1  Team A   0.0  25.1       1  25.100000\n",
       "2  Team A   0.5   1.0       1   1.118034\n",
       "3  Team A  -5.6   5.2       0   7.641989\n",
       "4  Team A   4.0  14.5       1  15.041609"
      ]
     },
     "execution_count": 5,
     "metadata": {},
     "output_type": "execute_result"
    }
   ],
   "source": [
    "df.head()"
   ]
  },
  {
   "cell_type": "code",
   "execution_count": 6,
   "id": "ff15bd4f",
   "metadata": {},
   "outputs": [],
   "source": [
    "# Categorising the Zones\n",
    "\n",
    "def categorise(a,b,c):\n",
    "    if (abs(b) <= 7.8 and abs(a) > 22):\n",
    "        return \"C3\"\n",
    "    if (abs(b) > 7.8):\n",
    "        if (abs(c) <= 23.75):\n",
    "            return '2PT'\n",
    "        if (abs(c) > 23.75):\n",
    "            return 'NC3'\n",
    "    else:\n",
    "        return \"2PT\"\n",
    "    \n",
    "\n",
    "    "
   ]
  },
  {
   "cell_type": "code",
   "execution_count": 7,
   "id": "3bec598d",
   "metadata": {},
   "outputs": [],
   "source": [
    "df[\"Category\"] = df[[\"x\",\"y\",\"Radius\"]].apply(lambda t: categorise(t[0] , t[1], t[2]) , axis =1)"
   ]
  },
  {
   "cell_type": "code",
   "execution_count": 8,
   "id": "3146b231",
   "metadata": {},
   "outputs": [
    {
     "data": {
      "text/plain": [
       "0       C3\n",
       "1      NC3\n",
       "2      2PT\n",
       "3      2PT\n",
       "4      2PT\n",
       "      ... \n",
       "555    NC3\n",
       "556    2PT\n",
       "557    2PT\n",
       "558     C3\n",
       "559    2PT\n",
       "Name: Category, Length: 560, dtype: object"
      ]
     },
     "execution_count": 8,
     "metadata": {},
     "output_type": "execute_result"
    }
   ],
   "source": [
    "df['Category']"
   ]
  },
  {
   "cell_type": "code",
   "execution_count": 9,
   "id": "ee961fdf",
   "metadata": {},
   "outputs": [
    {
     "data": {
      "text/html": [
       "<div>\n",
       "<style scoped>\n",
       "    .dataframe tbody tr th:only-of-type {\n",
       "        vertical-align: middle;\n",
       "    }\n",
       "\n",
       "    .dataframe tbody tr th {\n",
       "        vertical-align: top;\n",
       "    }\n",
       "\n",
       "    .dataframe thead th {\n",
       "        text-align: right;\n",
       "    }\n",
       "</style>\n",
       "<table border=\"1\" class=\"dataframe\">\n",
       "  <thead>\n",
       "    <tr style=\"text-align: right;\">\n",
       "      <th></th>\n",
       "      <th>team</th>\n",
       "      <th>x</th>\n",
       "      <th>y</th>\n",
       "      <th>fgmade</th>\n",
       "      <th>Radius</th>\n",
       "      <th>Category</th>\n",
       "    </tr>\n",
       "  </thead>\n",
       "  <tbody>\n",
       "    <tr>\n",
       "      <th>0</th>\n",
       "      <td>Team A</td>\n",
       "      <td>-23.1</td>\n",
       "      <td>3.5</td>\n",
       "      <td>0</td>\n",
       "      <td>23.363647</td>\n",
       "      <td>C3</td>\n",
       "    </tr>\n",
       "    <tr>\n",
       "      <th>1</th>\n",
       "      <td>Team A</td>\n",
       "      <td>0.0</td>\n",
       "      <td>25.1</td>\n",
       "      <td>1</td>\n",
       "      <td>25.100000</td>\n",
       "      <td>NC3</td>\n",
       "    </tr>\n",
       "    <tr>\n",
       "      <th>2</th>\n",
       "      <td>Team A</td>\n",
       "      <td>0.5</td>\n",
       "      <td>1.0</td>\n",
       "      <td>1</td>\n",
       "      <td>1.118034</td>\n",
       "      <td>2PT</td>\n",
       "    </tr>\n",
       "    <tr>\n",
       "      <th>3</th>\n",
       "      <td>Team A</td>\n",
       "      <td>-5.6</td>\n",
       "      <td>5.2</td>\n",
       "      <td>0</td>\n",
       "      <td>7.641989</td>\n",
       "      <td>2PT</td>\n",
       "    </tr>\n",
       "    <tr>\n",
       "      <th>4</th>\n",
       "      <td>Team A</td>\n",
       "      <td>4.0</td>\n",
       "      <td>14.5</td>\n",
       "      <td>1</td>\n",
       "      <td>15.041609</td>\n",
       "      <td>2PT</td>\n",
       "    </tr>\n",
       "    <tr>\n",
       "      <th>5</th>\n",
       "      <td>Team A</td>\n",
       "      <td>-13.6</td>\n",
       "      <td>4.0</td>\n",
       "      <td>1</td>\n",
       "      <td>14.176036</td>\n",
       "      <td>2PT</td>\n",
       "    </tr>\n",
       "    <tr>\n",
       "      <th>6</th>\n",
       "      <td>Team A</td>\n",
       "      <td>-9.0</td>\n",
       "      <td>7.2</td>\n",
       "      <td>1</td>\n",
       "      <td>11.525624</td>\n",
       "      <td>2PT</td>\n",
       "    </tr>\n",
       "    <tr>\n",
       "      <th>7</th>\n",
       "      <td>Team A</td>\n",
       "      <td>-1.2</td>\n",
       "      <td>1.5</td>\n",
       "      <td>1</td>\n",
       "      <td>1.920937</td>\n",
       "      <td>2PT</td>\n",
       "    </tr>\n",
       "    <tr>\n",
       "      <th>8</th>\n",
       "      <td>Team A</td>\n",
       "      <td>-9.2</td>\n",
       "      <td>15.3</td>\n",
       "      <td>0</td>\n",
       "      <td>17.853011</td>\n",
       "      <td>2PT</td>\n",
       "    </tr>\n",
       "    <tr>\n",
       "      <th>9</th>\n",
       "      <td>Team A</td>\n",
       "      <td>-16.8</td>\n",
       "      <td>20.5</td>\n",
       "      <td>1</td>\n",
       "      <td>26.504528</td>\n",
       "      <td>NC3</td>\n",
       "    </tr>\n",
       "  </tbody>\n",
       "</table>\n",
       "</div>"
      ],
      "text/plain": [
       "     team     x     y  fgmade     Radius Category\n",
       "0  Team A -23.1   3.5       0  23.363647       C3\n",
       "1  Team A   0.0  25.1       1  25.100000      NC3\n",
       "2  Team A   0.5   1.0       1   1.118034      2PT\n",
       "3  Team A  -5.6   5.2       0   7.641989      2PT\n",
       "4  Team A   4.0  14.5       1  15.041609      2PT\n",
       "5  Team A -13.6   4.0       1  14.176036      2PT\n",
       "6  Team A  -9.0   7.2       1  11.525624      2PT\n",
       "7  Team A  -1.2   1.5       1   1.920937      2PT\n",
       "8  Team A  -9.2  15.3       0  17.853011      2PT\n",
       "9  Team A -16.8  20.5       1  26.504528      NC3"
      ]
     },
     "execution_count": 9,
     "metadata": {},
     "output_type": "execute_result"
    }
   ],
   "source": [
    "df.head(10)"
   ]
  },
  {
   "cell_type": "code",
   "execution_count": 10,
   "id": "505c6e9d",
   "metadata": {},
   "outputs": [],
   "source": [
    "# Grouping according team and category for calculating shot distribution. \n",
    "\n",
    "df1 = df.groupby(['team','Category']).count()"
   ]
  },
  {
   "cell_type": "code",
   "execution_count": 11,
   "id": "c56d4bb1",
   "metadata": {},
   "outputs": [
    {
     "data": {
      "text/html": [
       "<div>\n",
       "<style scoped>\n",
       "    .dataframe tbody tr th:only-of-type {\n",
       "        vertical-align: middle;\n",
       "    }\n",
       "\n",
       "    .dataframe tbody tr th {\n",
       "        vertical-align: top;\n",
       "    }\n",
       "\n",
       "    .dataframe thead th {\n",
       "        text-align: right;\n",
       "    }\n",
       "</style>\n",
       "<table border=\"1\" class=\"dataframe\">\n",
       "  <thead>\n",
       "    <tr style=\"text-align: right;\">\n",
       "      <th></th>\n",
       "      <th></th>\n",
       "      <th>x</th>\n",
       "      <th>y</th>\n",
       "      <th>fgmade</th>\n",
       "      <th>Radius</th>\n",
       "    </tr>\n",
       "    <tr>\n",
       "      <th>team</th>\n",
       "      <th>Category</th>\n",
       "      <th></th>\n",
       "      <th></th>\n",
       "      <th></th>\n",
       "      <th></th>\n",
       "    </tr>\n",
       "  </thead>\n",
       "  <tbody>\n",
       "    <tr>\n",
       "      <th rowspan=\"3\" valign=\"top\">Team A</th>\n",
       "      <th>2PT</th>\n",
       "      <td>170</td>\n",
       "      <td>170</td>\n",
       "      <td>170</td>\n",
       "      <td>170</td>\n",
       "    </tr>\n",
       "    <tr>\n",
       "      <th>C3</th>\n",
       "      <td>20</td>\n",
       "      <td>20</td>\n",
       "      <td>20</td>\n",
       "      <td>20</td>\n",
       "    </tr>\n",
       "    <tr>\n",
       "      <th>NC3</th>\n",
       "      <td>90</td>\n",
       "      <td>90</td>\n",
       "      <td>90</td>\n",
       "      <td>90</td>\n",
       "    </tr>\n",
       "    <tr>\n",
       "      <th rowspan=\"3\" valign=\"top\">Team B</th>\n",
       "      <th>2PT</th>\n",
       "      <td>163</td>\n",
       "      <td>163</td>\n",
       "      <td>163</td>\n",
       "      <td>163</td>\n",
       "    </tr>\n",
       "    <tr>\n",
       "      <th>C3</th>\n",
       "      <td>21</td>\n",
       "      <td>21</td>\n",
       "      <td>21</td>\n",
       "      <td>21</td>\n",
       "    </tr>\n",
       "    <tr>\n",
       "      <th>NC3</th>\n",
       "      <td>96</td>\n",
       "      <td>96</td>\n",
       "      <td>96</td>\n",
       "      <td>96</td>\n",
       "    </tr>\n",
       "  </tbody>\n",
       "</table>\n",
       "</div>"
      ],
      "text/plain": [
       "                   x    y  fgmade  Radius\n",
       "team   Category                          \n",
       "Team A 2PT       170  170     170     170\n",
       "       C3         20   20      20      20\n",
       "       NC3        90   90      90      90\n",
       "Team B 2PT       163  163     163     163\n",
       "       C3         21   21      21      21\n",
       "       NC3        96   96      96      96"
      ]
     },
     "execution_count": 11,
     "metadata": {},
     "output_type": "execute_result"
    }
   ],
   "source": [
    "df1"
   ]
  },
  {
   "cell_type": "code",
   "execution_count": 12,
   "id": "3a1a7191",
   "metadata": {},
   "outputs": [],
   "source": [
    "Team_A = df1.xs('Team A')\n",
    "Team_B = df1.xs('Team B')"
   ]
  },
  {
   "cell_type": "markdown",
   "id": "65fea5b3",
   "metadata": {},
   "source": [
    "###### Short Distribution 2PT"
   ]
  },
  {
   "cell_type": "code",
   "execution_count": 13,
   "id": "07816422",
   "metadata": {},
   "outputs": [],
   "source": [
    "distribution_2PT = df1.xs('2PT',level='Category')"
   ]
  },
  {
   "cell_type": "code",
   "execution_count": 14,
   "id": "595112f0",
   "metadata": {},
   "outputs": [
    {
     "data": {
      "text/html": [
       "<div>\n",
       "<style scoped>\n",
       "    .dataframe tbody tr th:only-of-type {\n",
       "        vertical-align: middle;\n",
       "    }\n",
       "\n",
       "    .dataframe tbody tr th {\n",
       "        vertical-align: top;\n",
       "    }\n",
       "\n",
       "    .dataframe thead th {\n",
       "        text-align: right;\n",
       "    }\n",
       "</style>\n",
       "<table border=\"1\" class=\"dataframe\">\n",
       "  <thead>\n",
       "    <tr style=\"text-align: right;\">\n",
       "      <th></th>\n",
       "      <th>x</th>\n",
       "      <th>y</th>\n",
       "      <th>fgmade</th>\n",
       "      <th>Radius</th>\n",
       "    </tr>\n",
       "    <tr>\n",
       "      <th>team</th>\n",
       "      <th></th>\n",
       "      <th></th>\n",
       "      <th></th>\n",
       "      <th></th>\n",
       "    </tr>\n",
       "  </thead>\n",
       "  <tbody>\n",
       "    <tr>\n",
       "      <th>Team A</th>\n",
       "      <td>170</td>\n",
       "      <td>170</td>\n",
       "      <td>170</td>\n",
       "      <td>170</td>\n",
       "    </tr>\n",
       "    <tr>\n",
       "      <th>Team B</th>\n",
       "      <td>163</td>\n",
       "      <td>163</td>\n",
       "      <td>163</td>\n",
       "      <td>163</td>\n",
       "    </tr>\n",
       "  </tbody>\n",
       "</table>\n",
       "</div>"
      ],
      "text/plain": [
       "          x    y  fgmade  Radius\n",
       "team                            \n",
       "Team A  170  170     170     170\n",
       "Team B  163  163     163     163"
      ]
     },
     "execution_count": 14,
     "metadata": {},
     "output_type": "execute_result"
    }
   ],
   "source": [
    "distribution_2PT"
   ]
  },
  {
   "cell_type": "code",
   "execution_count": 23,
   "id": "d00e80d8",
   "metadata": {},
   "outputs": [
    {
     "name": "stderr",
     "output_type": "stream",
     "text": [
      "<ipython-input-23-758ce81cf337>:1: SettingWithCopyWarning: \n",
      "A value is trying to be set on a copy of a slice from a DataFrame.\n",
      "Try using .loc[row_indexer,col_indexer] = value instead\n",
      "\n",
      "See the caveats in the documentation: https://pandas.pydata.org/pandas-docs/stable/user_guide/indexing.html#returning-a-view-versus-a-copy\n",
      "  distribution_2PT['Short_distribution_%'] = distribution_2PT.iloc[: , 3: ]\\\n"
     ]
    }
   ],
   "source": [
    "distribution_2PT['Short_distribution_%'] = distribution_2PT.iloc[: , 3: ]\\\n",
    "                                        .apply(lambda z : 100*z / (distribution_2PT.iloc[: , 3: ].sum()) , axis = 1 )"
   ]
  },
  {
   "cell_type": "code",
   "execution_count": 24,
   "id": "be1ba50e",
   "metadata": {},
   "outputs": [
    {
     "data": {
      "text/html": [
       "<div>\n",
       "<style scoped>\n",
       "    .dataframe tbody tr th:only-of-type {\n",
       "        vertical-align: middle;\n",
       "    }\n",
       "\n",
       "    .dataframe tbody tr th {\n",
       "        vertical-align: top;\n",
       "    }\n",
       "\n",
       "    .dataframe thead th {\n",
       "        text-align: right;\n",
       "    }\n",
       "</style>\n",
       "<table border=\"1\" class=\"dataframe\">\n",
       "  <thead>\n",
       "    <tr style=\"text-align: right;\">\n",
       "      <th></th>\n",
       "      <th>x</th>\n",
       "      <th>y</th>\n",
       "      <th>fgmade</th>\n",
       "      <th>Radius</th>\n",
       "      <th>Short_distribution_%</th>\n",
       "    </tr>\n",
       "    <tr>\n",
       "      <th>team</th>\n",
       "      <th></th>\n",
       "      <th></th>\n",
       "      <th></th>\n",
       "      <th></th>\n",
       "      <th></th>\n",
       "    </tr>\n",
       "  </thead>\n",
       "  <tbody>\n",
       "    <tr>\n",
       "      <th>Team A</th>\n",
       "      <td>170</td>\n",
       "      <td>170</td>\n",
       "      <td>170</td>\n",
       "      <td>170</td>\n",
       "      <td>51.051051</td>\n",
       "    </tr>\n",
       "    <tr>\n",
       "      <th>Team B</th>\n",
       "      <td>163</td>\n",
       "      <td>163</td>\n",
       "      <td>163</td>\n",
       "      <td>163</td>\n",
       "      <td>48.948949</td>\n",
       "    </tr>\n",
       "  </tbody>\n",
       "</table>\n",
       "</div>"
      ],
      "text/plain": [
       "          x    y  fgmade  Radius  Short_distribution_%\n",
       "team                                                  \n",
       "Team A  170  170     170     170             51.051051\n",
       "Team B  163  163     163     163             48.948949"
      ]
     },
     "execution_count": 24,
     "metadata": {},
     "output_type": "execute_result"
    }
   ],
   "source": [
    "distribution_2PT\n",
    "\n",
    "# Shot distribution for Team A  :- 51.051\n",
    "# Shot distribution for Team B :- 58.94"
   ]
  },
  {
   "cell_type": "markdown",
   "id": "4b044f59",
   "metadata": {},
   "source": [
    "###### Short Distribution C3"
   ]
  },
  {
   "cell_type": "code",
   "execution_count": 25,
   "id": "e1896b67",
   "metadata": {},
   "outputs": [],
   "source": [
    "distribution_C3 = df1.xs('C3',level='Category')"
   ]
  },
  {
   "cell_type": "code",
   "execution_count": 26,
   "id": "c7e91f58",
   "metadata": {},
   "outputs": [
    {
     "data": {
      "text/html": [
       "<div>\n",
       "<style scoped>\n",
       "    .dataframe tbody tr th:only-of-type {\n",
       "        vertical-align: middle;\n",
       "    }\n",
       "\n",
       "    .dataframe tbody tr th {\n",
       "        vertical-align: top;\n",
       "    }\n",
       "\n",
       "    .dataframe thead th {\n",
       "        text-align: right;\n",
       "    }\n",
       "</style>\n",
       "<table border=\"1\" class=\"dataframe\">\n",
       "  <thead>\n",
       "    <tr style=\"text-align: right;\">\n",
       "      <th></th>\n",
       "      <th>x</th>\n",
       "      <th>y</th>\n",
       "      <th>fgmade</th>\n",
       "      <th>Radius</th>\n",
       "    </tr>\n",
       "    <tr>\n",
       "      <th>team</th>\n",
       "      <th></th>\n",
       "      <th></th>\n",
       "      <th></th>\n",
       "      <th></th>\n",
       "    </tr>\n",
       "  </thead>\n",
       "  <tbody>\n",
       "    <tr>\n",
       "      <th>Team A</th>\n",
       "      <td>20</td>\n",
       "      <td>20</td>\n",
       "      <td>20</td>\n",
       "      <td>20</td>\n",
       "    </tr>\n",
       "    <tr>\n",
       "      <th>Team B</th>\n",
       "      <td>21</td>\n",
       "      <td>21</td>\n",
       "      <td>21</td>\n",
       "      <td>21</td>\n",
       "    </tr>\n",
       "  </tbody>\n",
       "</table>\n",
       "</div>"
      ],
      "text/plain": [
       "         x   y  fgmade  Radius\n",
       "team                          \n",
       "Team A  20  20      20      20\n",
       "Team B  21  21      21      21"
      ]
     },
     "execution_count": 26,
     "metadata": {},
     "output_type": "execute_result"
    }
   ],
   "source": [
    "distribution_C3"
   ]
  },
  {
   "cell_type": "code",
   "execution_count": 28,
   "id": "3268bf2a",
   "metadata": {},
   "outputs": [
    {
     "name": "stderr",
     "output_type": "stream",
     "text": [
      "<ipython-input-28-28814934e937>:1: SettingWithCopyWarning: \n",
      "A value is trying to be set on a copy of a slice from a DataFrame.\n",
      "Try using .loc[row_indexer,col_indexer] = value instead\n",
      "\n",
      "See the caveats in the documentation: https://pandas.pydata.org/pandas-docs/stable/user_guide/indexing.html#returning-a-view-versus-a-copy\n",
      "  distribution_C3['Short_distribution_%'] = distribution_C3.iloc[: , 3: ]\\\n"
     ]
    }
   ],
   "source": [
    "distribution_C3['Short_distribution_%'] = distribution_C3.iloc[: , 3: ]\\\n",
    "                                        .apply(lambda z : 100*z / (distribution_C3.iloc[: , 3: ].sum()) , axis = 1 )"
   ]
  },
  {
   "cell_type": "code",
   "execution_count": 29,
   "id": "7384328f",
   "metadata": {},
   "outputs": [
    {
     "data": {
      "text/html": [
       "<div>\n",
       "<style scoped>\n",
       "    .dataframe tbody tr th:only-of-type {\n",
       "        vertical-align: middle;\n",
       "    }\n",
       "\n",
       "    .dataframe tbody tr th {\n",
       "        vertical-align: top;\n",
       "    }\n",
       "\n",
       "    .dataframe thead th {\n",
       "        text-align: right;\n",
       "    }\n",
       "</style>\n",
       "<table border=\"1\" class=\"dataframe\">\n",
       "  <thead>\n",
       "    <tr style=\"text-align: right;\">\n",
       "      <th></th>\n",
       "      <th>x</th>\n",
       "      <th>y</th>\n",
       "      <th>fgmade</th>\n",
       "      <th>Radius</th>\n",
       "      <th>Short_distribution_%</th>\n",
       "    </tr>\n",
       "    <tr>\n",
       "      <th>team</th>\n",
       "      <th></th>\n",
       "      <th></th>\n",
       "      <th></th>\n",
       "      <th></th>\n",
       "      <th></th>\n",
       "    </tr>\n",
       "  </thead>\n",
       "  <tbody>\n",
       "    <tr>\n",
       "      <th>Team A</th>\n",
       "      <td>20</td>\n",
       "      <td>20</td>\n",
       "      <td>20</td>\n",
       "      <td>20</td>\n",
       "      <td>48.780488</td>\n",
       "    </tr>\n",
       "    <tr>\n",
       "      <th>Team B</th>\n",
       "      <td>21</td>\n",
       "      <td>21</td>\n",
       "      <td>21</td>\n",
       "      <td>21</td>\n",
       "      <td>51.219512</td>\n",
       "    </tr>\n",
       "  </tbody>\n",
       "</table>\n",
       "</div>"
      ],
      "text/plain": [
       "         x   y  fgmade  Radius  Short_distribution_%\n",
       "team                                                \n",
       "Team A  20  20      20      20             48.780488\n",
       "Team B  21  21      21      21             51.219512"
      ]
     },
     "execution_count": 29,
     "metadata": {},
     "output_type": "execute_result"
    }
   ],
   "source": [
    "distribution_C3\n",
    "\n",
    "# Shot distribution for Team A  :- 48.7804\n",
    "# Shot distribution for Team B :- 51.21"
   ]
  },
  {
   "cell_type": "markdown",
   "id": "c7abe9cf",
   "metadata": {},
   "source": [
    "###### Short Distribution NC3"
   ]
  },
  {
   "cell_type": "code",
   "execution_count": 30,
   "id": "2f28c8da",
   "metadata": {},
   "outputs": [],
   "source": [
    "distribution_NC3 = df1.xs('NC3',level='Category')"
   ]
  },
  {
   "cell_type": "code",
   "execution_count": 31,
   "id": "157464bb",
   "metadata": {},
   "outputs": [
    {
     "data": {
      "text/html": [
       "<div>\n",
       "<style scoped>\n",
       "    .dataframe tbody tr th:only-of-type {\n",
       "        vertical-align: middle;\n",
       "    }\n",
       "\n",
       "    .dataframe tbody tr th {\n",
       "        vertical-align: top;\n",
       "    }\n",
       "\n",
       "    .dataframe thead th {\n",
       "        text-align: right;\n",
       "    }\n",
       "</style>\n",
       "<table border=\"1\" class=\"dataframe\">\n",
       "  <thead>\n",
       "    <tr style=\"text-align: right;\">\n",
       "      <th></th>\n",
       "      <th>x</th>\n",
       "      <th>y</th>\n",
       "      <th>fgmade</th>\n",
       "      <th>Radius</th>\n",
       "    </tr>\n",
       "    <tr>\n",
       "      <th>team</th>\n",
       "      <th></th>\n",
       "      <th></th>\n",
       "      <th></th>\n",
       "      <th></th>\n",
       "    </tr>\n",
       "  </thead>\n",
       "  <tbody>\n",
       "    <tr>\n",
       "      <th>Team A</th>\n",
       "      <td>90</td>\n",
       "      <td>90</td>\n",
       "      <td>90</td>\n",
       "      <td>90</td>\n",
       "    </tr>\n",
       "    <tr>\n",
       "      <th>Team B</th>\n",
       "      <td>96</td>\n",
       "      <td>96</td>\n",
       "      <td>96</td>\n",
       "      <td>96</td>\n",
       "    </tr>\n",
       "  </tbody>\n",
       "</table>\n",
       "</div>"
      ],
      "text/plain": [
       "         x   y  fgmade  Radius\n",
       "team                          \n",
       "Team A  90  90      90      90\n",
       "Team B  96  96      96      96"
      ]
     },
     "execution_count": 31,
     "metadata": {},
     "output_type": "execute_result"
    }
   ],
   "source": [
    "distribution_NC3"
   ]
  },
  {
   "cell_type": "code",
   "execution_count": 32,
   "id": "ed64081c",
   "metadata": {},
   "outputs": [
    {
     "name": "stderr",
     "output_type": "stream",
     "text": [
      "<ipython-input-32-ecbe333297a1>:1: SettingWithCopyWarning: \n",
      "A value is trying to be set on a copy of a slice from a DataFrame.\n",
      "Try using .loc[row_indexer,col_indexer] = value instead\n",
      "\n",
      "See the caveats in the documentation: https://pandas.pydata.org/pandas-docs/stable/user_guide/indexing.html#returning-a-view-versus-a-copy\n",
      "  distribution_NC3['Short_distribution_%'] = distribution_NC3.iloc[: , 3: ]\\\n"
     ]
    }
   ],
   "source": [
    "distribution_NC3['Short_distribution_%'] = distribution_NC3.iloc[: , 3: ]\\\n",
    "                                        .apply(lambda z : 100*z / (distribution_NC3.iloc[: , 3: ].sum()) , axis = 1 )"
   ]
  },
  {
   "cell_type": "code",
   "execution_count": 33,
   "id": "d3f5cce2",
   "metadata": {},
   "outputs": [
    {
     "data": {
      "text/html": [
       "<div>\n",
       "<style scoped>\n",
       "    .dataframe tbody tr th:only-of-type {\n",
       "        vertical-align: middle;\n",
       "    }\n",
       "\n",
       "    .dataframe tbody tr th {\n",
       "        vertical-align: top;\n",
       "    }\n",
       "\n",
       "    .dataframe thead th {\n",
       "        text-align: right;\n",
       "    }\n",
       "</style>\n",
       "<table border=\"1\" class=\"dataframe\">\n",
       "  <thead>\n",
       "    <tr style=\"text-align: right;\">\n",
       "      <th></th>\n",
       "      <th>x</th>\n",
       "      <th>y</th>\n",
       "      <th>fgmade</th>\n",
       "      <th>Radius</th>\n",
       "      <th>Short_distribution_%</th>\n",
       "    </tr>\n",
       "    <tr>\n",
       "      <th>team</th>\n",
       "      <th></th>\n",
       "      <th></th>\n",
       "      <th></th>\n",
       "      <th></th>\n",
       "      <th></th>\n",
       "    </tr>\n",
       "  </thead>\n",
       "  <tbody>\n",
       "    <tr>\n",
       "      <th>Team A</th>\n",
       "      <td>90</td>\n",
       "      <td>90</td>\n",
       "      <td>90</td>\n",
       "      <td>90</td>\n",
       "      <td>48.387097</td>\n",
       "    </tr>\n",
       "    <tr>\n",
       "      <th>Team B</th>\n",
       "      <td>96</td>\n",
       "      <td>96</td>\n",
       "      <td>96</td>\n",
       "      <td>96</td>\n",
       "      <td>51.612903</td>\n",
       "    </tr>\n",
       "  </tbody>\n",
       "</table>\n",
       "</div>"
      ],
      "text/plain": [
       "         x   y  fgmade  Radius  Short_distribution_%\n",
       "team                                                \n",
       "Team A  90  90      90      90             48.387097\n",
       "Team B  96  96      96      96             51.612903"
      ]
     },
     "execution_count": 33,
     "metadata": {},
     "output_type": "execute_result"
    }
   ],
   "source": [
    "distribution_NC3\n",
    "\n",
    "# Shot distribution for Team A  :- 48.387\n",
    "# Shot distribution for Team B :- 51.612"
   ]
  },
  {
   "cell_type": "code",
   "execution_count": null,
   "id": "c60eb741",
   "metadata": {},
   "outputs": [],
   "source": [
    "# Grouping by team, Category and fgmade for %eFG \n",
    "df.groupby(['team','Category','fgmade']).count()"
   ]
  },
  {
   "cell_type": "markdown",
   "id": "db05f1ca",
   "metadata": {},
   "source": [
    "#### eFG % TEAM_A (2PT)"
   ]
  },
  {
   "cell_type": "code",
   "execution_count": 34,
   "id": "36fadc3b",
   "metadata": {},
   "outputs": [
    {
     "data": {
      "text/html": [
       "<div>\n",
       "<style scoped>\n",
       "    .dataframe tbody tr th:only-of-type {\n",
       "        vertical-align: middle;\n",
       "    }\n",
       "\n",
       "    .dataframe tbody tr th {\n",
       "        vertical-align: top;\n",
       "    }\n",
       "\n",
       "    .dataframe thead th {\n",
       "        text-align: right;\n",
       "    }\n",
       "</style>\n",
       "<table border=\"1\" class=\"dataframe\">\n",
       "  <thead>\n",
       "    <tr style=\"text-align: right;\">\n",
       "      <th></th>\n",
       "      <th></th>\n",
       "      <th></th>\n",
       "      <th>x</th>\n",
       "      <th>y</th>\n",
       "      <th>Radius</th>\n",
       "    </tr>\n",
       "    <tr>\n",
       "      <th>team</th>\n",
       "      <th>Category</th>\n",
       "      <th>fgmade</th>\n",
       "      <th></th>\n",
       "      <th></th>\n",
       "      <th></th>\n",
       "    </tr>\n",
       "  </thead>\n",
       "  <tbody>\n",
       "    <tr>\n",
       "      <th rowspan=\"6\" valign=\"top\">Team A</th>\n",
       "      <th rowspan=\"2\" valign=\"top\">2PT</th>\n",
       "      <th>0</th>\n",
       "      <td>102</td>\n",
       "      <td>102</td>\n",
       "      <td>102</td>\n",
       "    </tr>\n",
       "    <tr>\n",
       "      <th>1</th>\n",
       "      <td>68</td>\n",
       "      <td>68</td>\n",
       "      <td>68</td>\n",
       "    </tr>\n",
       "    <tr>\n",
       "      <th rowspan=\"2\" valign=\"top\">C3</th>\n",
       "      <th>0</th>\n",
       "      <td>12</td>\n",
       "      <td>12</td>\n",
       "      <td>12</td>\n",
       "    </tr>\n",
       "    <tr>\n",
       "      <th>1</th>\n",
       "      <td>8</td>\n",
       "      <td>8</td>\n",
       "      <td>8</td>\n",
       "    </tr>\n",
       "    <tr>\n",
       "      <th rowspan=\"2\" valign=\"top\">NC3</th>\n",
       "      <th>0</th>\n",
       "      <td>61</td>\n",
       "      <td>61</td>\n",
       "      <td>61</td>\n",
       "    </tr>\n",
       "    <tr>\n",
       "      <th>1</th>\n",
       "      <td>29</td>\n",
       "      <td>29</td>\n",
       "      <td>29</td>\n",
       "    </tr>\n",
       "    <tr>\n",
       "      <th rowspan=\"6\" valign=\"top\">Team B</th>\n",
       "      <th rowspan=\"2\" valign=\"top\">2PT</th>\n",
       "      <th>0</th>\n",
       "      <td>88</td>\n",
       "      <td>88</td>\n",
       "      <td>88</td>\n",
       "    </tr>\n",
       "    <tr>\n",
       "      <th>1</th>\n",
       "      <td>75</td>\n",
       "      <td>75</td>\n",
       "      <td>75</td>\n",
       "    </tr>\n",
       "    <tr>\n",
       "      <th rowspan=\"2\" valign=\"top\">C3</th>\n",
       "      <th>0</th>\n",
       "      <td>16</td>\n",
       "      <td>16</td>\n",
       "      <td>16</td>\n",
       "    </tr>\n",
       "    <tr>\n",
       "      <th>1</th>\n",
       "      <td>5</td>\n",
       "      <td>5</td>\n",
       "      <td>5</td>\n",
       "    </tr>\n",
       "    <tr>\n",
       "      <th rowspan=\"2\" valign=\"top\">NC3</th>\n",
       "      <th>0</th>\n",
       "      <td>61</td>\n",
       "      <td>61</td>\n",
       "      <td>61</td>\n",
       "    </tr>\n",
       "    <tr>\n",
       "      <th>1</th>\n",
       "      <td>35</td>\n",
       "      <td>35</td>\n",
       "      <td>35</td>\n",
       "    </tr>\n",
       "  </tbody>\n",
       "</table>\n",
       "</div>"
      ],
      "text/plain": [
       "                          x    y  Radius\n",
       "team   Category fgmade                  \n",
       "Team A 2PT      0       102  102     102\n",
       "                1        68   68      68\n",
       "       C3       0        12   12      12\n",
       "                1         8    8       8\n",
       "       NC3      0        61   61      61\n",
       "                1        29   29      29\n",
       "Team B 2PT      0        88   88      88\n",
       "                1        75   75      75\n",
       "       C3       0        16   16      16\n",
       "                1         5    5       5\n",
       "       NC3      0        61   61      61\n",
       "                1        35   35      35"
      ]
     },
     "execution_count": 34,
     "metadata": {},
     "output_type": "execute_result"
    }
   ],
   "source": [
    "df.groupby(['team','Category','fgmade']).count()"
   ]
  },
  {
   "cell_type": "code",
   "execution_count": 35,
   "id": "1113a364",
   "metadata": {},
   "outputs": [],
   "source": [
    "Team_A_efg = (df.groupby(['team','Category','fgmade']).count()).xs('Team A')"
   ]
  },
  {
   "cell_type": "code",
   "execution_count": 39,
   "id": "0e2e31c2",
   "metadata": {},
   "outputs": [
    {
     "data": {
      "text/html": [
       "<div>\n",
       "<style scoped>\n",
       "    .dataframe tbody tr th:only-of-type {\n",
       "        vertical-align: middle;\n",
       "    }\n",
       "\n",
       "    .dataframe tbody tr th {\n",
       "        vertical-align: top;\n",
       "    }\n",
       "\n",
       "    .dataframe thead th {\n",
       "        text-align: right;\n",
       "    }\n",
       "</style>\n",
       "<table border=\"1\" class=\"dataframe\">\n",
       "  <thead>\n",
       "    <tr style=\"text-align: right;\">\n",
       "      <th></th>\n",
       "      <th></th>\n",
       "      <th>x</th>\n",
       "      <th>y</th>\n",
       "      <th>Radius</th>\n",
       "    </tr>\n",
       "    <tr>\n",
       "      <th>Category</th>\n",
       "      <th>fgmade</th>\n",
       "      <th></th>\n",
       "      <th></th>\n",
       "      <th></th>\n",
       "    </tr>\n",
       "  </thead>\n",
       "  <tbody>\n",
       "    <tr>\n",
       "      <th rowspan=\"2\" valign=\"top\">2PT</th>\n",
       "      <th>0</th>\n",
       "      <td>102</td>\n",
       "      <td>102</td>\n",
       "      <td>102</td>\n",
       "    </tr>\n",
       "    <tr>\n",
       "      <th>1</th>\n",
       "      <td>68</td>\n",
       "      <td>68</td>\n",
       "      <td>68</td>\n",
       "    </tr>\n",
       "    <tr>\n",
       "      <th rowspan=\"2\" valign=\"top\">C3</th>\n",
       "      <th>0</th>\n",
       "      <td>12</td>\n",
       "      <td>12</td>\n",
       "      <td>12</td>\n",
       "    </tr>\n",
       "    <tr>\n",
       "      <th>1</th>\n",
       "      <td>8</td>\n",
       "      <td>8</td>\n",
       "      <td>8</td>\n",
       "    </tr>\n",
       "    <tr>\n",
       "      <th rowspan=\"2\" valign=\"top\">NC3</th>\n",
       "      <th>0</th>\n",
       "      <td>61</td>\n",
       "      <td>61</td>\n",
       "      <td>61</td>\n",
       "    </tr>\n",
       "    <tr>\n",
       "      <th>1</th>\n",
       "      <td>29</td>\n",
       "      <td>29</td>\n",
       "      <td>29</td>\n",
       "    </tr>\n",
       "  </tbody>\n",
       "</table>\n",
       "</div>"
      ],
      "text/plain": [
       "                   x    y  Radius\n",
       "Category fgmade                  \n",
       "2PT      0       102  102     102\n",
       "         1        68   68      68\n",
       "C3       0        12   12      12\n",
       "         1         8    8       8\n",
       "NC3      0        61   61      61\n",
       "         1        29   29      29"
      ]
     },
     "execution_count": 39,
     "metadata": {},
     "output_type": "execute_result"
    }
   ],
   "source": [
    "Team_A_efg"
   ]
  },
  {
   "cell_type": "markdown",
   "id": "e6d03461",
   "metadata": {},
   "source": [
    "###### FGA"
   ]
  },
  {
   "cell_type": "code",
   "execution_count": 99,
   "id": "c6eb1efe",
   "metadata": {},
   "outputs": [],
   "source": [
    "Team_A_2pt_fga = Team_A_efg.xs('2PT')['Radius'].sum()"
   ]
  },
  {
   "cell_type": "code",
   "execution_count": 101,
   "id": "2eda0f97",
   "metadata": {},
   "outputs": [
    {
     "data": {
      "text/plain": [
       "170"
      ]
     },
     "execution_count": 101,
     "metadata": {},
     "output_type": "execute_result"
    }
   ],
   "source": [
    "Team_A_2pt_fga\n",
    "\n",
    "# FGA for Team A for 2PT zone. "
   ]
  },
  {
   "cell_type": "markdown",
   "id": "983966a7",
   "metadata": {},
   "source": [
    "###### FGM"
   ]
  },
  {
   "cell_type": "code",
   "execution_count": 114,
   "id": "606dc21f",
   "metadata": {},
   "outputs": [],
   "source": [
    "Team_A_2pt_fgm = Team_A_efg.xs('2PT')[\"Radius\"].loc[1]"
   ]
  },
  {
   "cell_type": "code",
   "execution_count": 115,
   "id": "d20273e0",
   "metadata": {},
   "outputs": [
    {
     "data": {
      "text/plain": [
       "68"
      ]
     },
     "execution_count": 115,
     "metadata": {},
     "output_type": "execute_result"
    }
   ],
   "source": [
    "Team_A_2pt_fgm\n",
    "\n",
    "# FGM for Team A for 2PT zone. "
   ]
  },
  {
   "cell_type": "markdown",
   "id": "610ef97b",
   "metadata": {},
   "source": [
    "###### 3PM"
   ]
  },
  {
   "cell_type": "code",
   "execution_count": 140,
   "id": "af00f23b",
   "metadata": {},
   "outputs": [],
   "source": [
    "C3_made = Team_A_efg.xs('C3')['Radius'].loc[1] "
   ]
  },
  {
   "cell_type": "code",
   "execution_count": 141,
   "id": "643ced24",
   "metadata": {},
   "outputs": [],
   "source": [
    "NC3_made = Team_A_efg.xs('NC3')['Radius'].loc[1] "
   ]
  },
  {
   "cell_type": "code",
   "execution_count": 142,
   "id": "5d3121f3",
   "metadata": {},
   "outputs": [],
   "source": [
    "PM3_A_made = C3_made + NC3_made "
   ]
  },
  {
   "cell_type": "code",
   "execution_count": 143,
   "id": "24d7c1ca",
   "metadata": {},
   "outputs": [
    {
     "data": {
      "text/plain": [
       "37"
      ]
     },
     "execution_count": 143,
     "metadata": {},
     "output_type": "execute_result"
    }
   ],
   "source": [
    "PM3_A_made\n",
    "\n",
    "#3PM made in Team A"
   ]
  },
  {
   "cell_type": "markdown",
   "id": "bebb1d22",
   "metadata": {},
   "source": [
    "###### %efg"
   ]
  },
  {
   "cell_type": "code",
   "execution_count": 128,
   "id": "c49bf30c",
   "metadata": {},
   "outputs": [],
   "source": [
    "percent_efg_A_2pt = (Team_A_2pt_fgm + (0.5*PM3_A_made))/Team_A_2pt_fga"
   ]
  },
  {
   "cell_type": "code",
   "execution_count": 129,
   "id": "707deae1",
   "metadata": {},
   "outputs": [
    {
     "data": {
      "text/plain": [
       "0.5088235294117647"
      ]
     },
     "execution_count": 129,
     "metadata": {},
     "output_type": "execute_result"
    }
   ],
   "source": [
    "percent_efg_A_2pt\n",
    "\n",
    "# the percenatge is 0.5088"
   ]
  },
  {
   "cell_type": "code",
   "execution_count": 76,
   "id": "a928cc6a",
   "metadata": {},
   "outputs": [],
   "source": [
    "###############################################################"
   ]
  },
  {
   "cell_type": "markdown",
   "id": "f659cf43",
   "metadata": {},
   "source": [
    "###### eFG % TEAM_A (C3)"
   ]
  },
  {
   "cell_type": "markdown",
   "id": "40ea4314",
   "metadata": {},
   "source": [
    "###### FGA"
   ]
  },
  {
   "cell_type": "code",
   "execution_count": 88,
   "id": "0e94ef8d",
   "metadata": {},
   "outputs": [],
   "source": [
    "a_c3_fga = Team_A_efg.xs('C3')['Radius'].sum()"
   ]
  },
  {
   "cell_type": "code",
   "execution_count": 89,
   "id": "ee8c88be",
   "metadata": {},
   "outputs": [
    {
     "data": {
      "text/plain": [
       "20"
      ]
     },
     "execution_count": 89,
     "metadata": {},
     "output_type": "execute_result"
    }
   ],
   "source": [
    "a_c3_fga\n",
    "\n",
    "# FGA for Team A for C3 zone. "
   ]
  },
  {
   "cell_type": "markdown",
   "id": "5bf9248f",
   "metadata": {},
   "source": [
    "###### FGM"
   ]
  },
  {
   "cell_type": "code",
   "execution_count": 86,
   "id": "19ba740b",
   "metadata": {},
   "outputs": [],
   "source": [
    " a_c3_fgm = Team_A_efg.xs('C3')['Radius'].loc[1]"
   ]
  },
  {
   "cell_type": "code",
   "execution_count": 87,
   "id": "72bffd70",
   "metadata": {},
   "outputs": [
    {
     "data": {
      "text/plain": [
       "8"
      ]
     },
     "execution_count": 87,
     "metadata": {},
     "output_type": "execute_result"
    }
   ],
   "source": [
    "a_c3_fgm\n",
    "\n",
    "# FGM for Team A for C3 zone. "
   ]
  },
  {
   "cell_type": "markdown",
   "id": "85d0b381",
   "metadata": {},
   "source": [
    "###### % eFg  "
   ]
  },
  {
   "cell_type": "code",
   "execution_count": 130,
   "id": "3d118ce9",
   "metadata": {},
   "outputs": [],
   "source": [
    "percent_efg_A_c3 = (a_c3_fgm +(0.5*PM3_A_made))/a_c3_fga"
   ]
  },
  {
   "cell_type": "code",
   "execution_count": 131,
   "id": "ac59b9a9",
   "metadata": {},
   "outputs": [
    {
     "data": {
      "text/plain": [
       "1.325"
      ]
     },
     "execution_count": 131,
     "metadata": {},
     "output_type": "execute_result"
    }
   ],
   "source": [
    "percent_efg_A_c3\n",
    "\n",
    "# the eFGpercentage is 1.325"
   ]
  },
  {
   "cell_type": "markdown",
   "id": "a4270947",
   "metadata": {},
   "source": [
    "#### eFG % TEAM_A NC3 ZONE"
   ]
  },
  {
   "cell_type": "markdown",
   "id": "998f1c80",
   "metadata": {},
   "source": [
    "###### FGA"
   ]
  },
  {
   "cell_type": "code",
   "execution_count": 92,
   "id": "75638d18",
   "metadata": {},
   "outputs": [],
   "source": [
    "a_nc3_fga = Team_A_efg.xs('NC3')['Radius'].sum()"
   ]
  },
  {
   "cell_type": "code",
   "execution_count": 93,
   "id": "3f856860",
   "metadata": {},
   "outputs": [
    {
     "data": {
      "text/plain": [
       "90"
      ]
     },
     "execution_count": 93,
     "metadata": {},
     "output_type": "execute_result"
    }
   ],
   "source": [
    "a_nc3_fga\n",
    "\n",
    "# FGA for Team A for NC3 zone. "
   ]
  },
  {
   "cell_type": "markdown",
   "id": "32e1d9ed",
   "metadata": {},
   "source": [
    "###### FGM"
   ]
  },
  {
   "cell_type": "code",
   "execution_count": 94,
   "id": "93bb10c5",
   "metadata": {},
   "outputs": [],
   "source": [
    " a_nc3_fgm = Team_A_efg.xs('NC3')['Radius'].loc[1]"
   ]
  },
  {
   "cell_type": "code",
   "execution_count": 95,
   "id": "012ea804",
   "metadata": {},
   "outputs": [
    {
     "data": {
      "text/plain": [
       "29"
      ]
     },
     "execution_count": 95,
     "metadata": {},
     "output_type": "execute_result"
    }
   ],
   "source": [
    "a_nc3_fgm\n",
    "\n",
    "# FGM for Team A for NC3 zone. "
   ]
  },
  {
   "cell_type": "markdown",
   "id": "f1d2b8f6",
   "metadata": {},
   "source": [
    "###### % efg"
   ]
  },
  {
   "cell_type": "code",
   "execution_count": 132,
   "id": "3304f8b4",
   "metadata": {},
   "outputs": [],
   "source": [
    "percent_efg_A_nc3 = (a_nc3_fgm +(0.5*PM3_A_made))/a_nc3_fga"
   ]
  },
  {
   "cell_type": "code",
   "execution_count": 157,
   "id": "86fa015f",
   "metadata": {},
   "outputs": [
    {
     "data": {
      "text/plain": [
       "0.5277777777777778"
      ]
     },
     "execution_count": 157,
     "metadata": {},
     "output_type": "execute_result"
    }
   ],
   "source": [
    "percent_efg_A_nc3\n",
    "\n",
    "#The percentage 0.527"
   ]
  },
  {
   "cell_type": "markdown",
   "id": "183c58a1",
   "metadata": {},
   "source": [
    "### TEAM B "
   ]
  },
  {
   "cell_type": "code",
   "execution_count": 110,
   "id": "fbb4524e",
   "metadata": {},
   "outputs": [],
   "source": [
    "Team_B_efg = (df.groupby(['team','Category','fgmade']).count()).xs('Team B')"
   ]
  },
  {
   "cell_type": "code",
   "execution_count": 111,
   "id": "26a4bc70",
   "metadata": {},
   "outputs": [
    {
     "data": {
      "text/html": [
       "<div>\n",
       "<style scoped>\n",
       "    .dataframe tbody tr th:only-of-type {\n",
       "        vertical-align: middle;\n",
       "    }\n",
       "\n",
       "    .dataframe tbody tr th {\n",
       "        vertical-align: top;\n",
       "    }\n",
       "\n",
       "    .dataframe thead th {\n",
       "        text-align: right;\n",
       "    }\n",
       "</style>\n",
       "<table border=\"1\" class=\"dataframe\">\n",
       "  <thead>\n",
       "    <tr style=\"text-align: right;\">\n",
       "      <th></th>\n",
       "      <th></th>\n",
       "      <th>x</th>\n",
       "      <th>y</th>\n",
       "      <th>Radius</th>\n",
       "    </tr>\n",
       "    <tr>\n",
       "      <th>Category</th>\n",
       "      <th>fgmade</th>\n",
       "      <th></th>\n",
       "      <th></th>\n",
       "      <th></th>\n",
       "    </tr>\n",
       "  </thead>\n",
       "  <tbody>\n",
       "    <tr>\n",
       "      <th rowspan=\"2\" valign=\"top\">2PT</th>\n",
       "      <th>0</th>\n",
       "      <td>88</td>\n",
       "      <td>88</td>\n",
       "      <td>88</td>\n",
       "    </tr>\n",
       "    <tr>\n",
       "      <th>1</th>\n",
       "      <td>75</td>\n",
       "      <td>75</td>\n",
       "      <td>75</td>\n",
       "    </tr>\n",
       "    <tr>\n",
       "      <th rowspan=\"2\" valign=\"top\">C3</th>\n",
       "      <th>0</th>\n",
       "      <td>16</td>\n",
       "      <td>16</td>\n",
       "      <td>16</td>\n",
       "    </tr>\n",
       "    <tr>\n",
       "      <th>1</th>\n",
       "      <td>5</td>\n",
       "      <td>5</td>\n",
       "      <td>5</td>\n",
       "    </tr>\n",
       "    <tr>\n",
       "      <th rowspan=\"2\" valign=\"top\">NC3</th>\n",
       "      <th>0</th>\n",
       "      <td>61</td>\n",
       "      <td>61</td>\n",
       "      <td>61</td>\n",
       "    </tr>\n",
       "    <tr>\n",
       "      <th>1</th>\n",
       "      <td>35</td>\n",
       "      <td>35</td>\n",
       "      <td>35</td>\n",
       "    </tr>\n",
       "  </tbody>\n",
       "</table>\n",
       "</div>"
      ],
      "text/plain": [
       "                  x   y  Radius\n",
       "Category fgmade                \n",
       "2PT      0       88  88      88\n",
       "         1       75  75      75\n",
       "C3       0       16  16      16\n",
       "         1        5   5       5\n",
       "NC3      0       61  61      61\n",
       "         1       35  35      35"
      ]
     },
     "execution_count": 111,
     "metadata": {},
     "output_type": "execute_result"
    }
   ],
   "source": [
    "Team_B_efg"
   ]
  },
  {
   "cell_type": "markdown",
   "id": "18750319",
   "metadata": {},
   "source": [
    "###### 3PM"
   ]
  },
  {
   "cell_type": "code",
   "execution_count": 136,
   "id": "2449a9bb",
   "metadata": {},
   "outputs": [],
   "source": [
    "C3_b_made = Team_B_efg.xs('C3')['Radius'].loc[1] "
   ]
  },
  {
   "cell_type": "code",
   "execution_count": 137,
   "id": "96bac4e2",
   "metadata": {},
   "outputs": [],
   "source": [
    "NC3_b_made = Team_B_efg.xs('NC3')['Radius'].loc[1] "
   ]
  },
  {
   "cell_type": "code",
   "execution_count": 138,
   "id": "880b0ab2",
   "metadata": {},
   "outputs": [],
   "source": [
    "PM3_B_Made = (C3_b_made+NC3_b_made)"
   ]
  },
  {
   "cell_type": "code",
   "execution_count": 139,
   "id": "cb6c58c4",
   "metadata": {},
   "outputs": [
    {
     "data": {
      "text/plain": [
       "40"
      ]
     },
     "execution_count": 139,
     "metadata": {},
     "output_type": "execute_result"
    }
   ],
   "source": [
    "PM3_B_Made\n",
    "\n",
    "#3PM made in Team B"
   ]
  },
  {
   "cell_type": "markdown",
   "id": "74f17dc7",
   "metadata": {},
   "source": [
    "#### %ePG TEAM_B 2PT"
   ]
  },
  {
   "cell_type": "markdown",
   "id": "718983b1",
   "metadata": {},
   "source": [
    "###### FGA"
   ]
  },
  {
   "cell_type": "code",
   "execution_count": 146,
   "id": "33a3350e",
   "metadata": {},
   "outputs": [],
   "source": [
    "b_2pt_fga = Team_B_efg.xs('2PT')['Radius'].sum()"
   ]
  },
  {
   "cell_type": "code",
   "execution_count": 147,
   "id": "e9a2d01f",
   "metadata": {},
   "outputs": [
    {
     "data": {
      "text/plain": [
       "163"
      ]
     },
     "execution_count": 147,
     "metadata": {},
     "output_type": "execute_result"
    }
   ],
   "source": [
    "b_2pt_fga\n",
    "\n",
    "# FGA for Team B for 2PT zone. "
   ]
  },
  {
   "cell_type": "markdown",
   "id": "39a2ad9f",
   "metadata": {},
   "source": [
    "###### FGM"
   ]
  },
  {
   "cell_type": "code",
   "execution_count": 148,
   "id": "dff75f0d",
   "metadata": {},
   "outputs": [],
   "source": [
    "b_2pt_fgm = Team_B_efg.xs('2PT')[\"Radius\"].loc[1]"
   ]
  },
  {
   "cell_type": "code",
   "execution_count": 149,
   "id": "8d65683a",
   "metadata": {},
   "outputs": [
    {
     "data": {
      "text/plain": [
       "75"
      ]
     },
     "execution_count": 149,
     "metadata": {},
     "output_type": "execute_result"
    }
   ],
   "source": [
    "b_2pt_fgm\n",
    "\n",
    "# FGM for Team B for 2PT zone. "
   ]
  },
  {
   "cell_type": "markdown",
   "id": "23bab5f0",
   "metadata": {},
   "source": [
    "###### %eFG"
   ]
  },
  {
   "cell_type": "code",
   "execution_count": 150,
   "id": "ccf8f4eb",
   "metadata": {},
   "outputs": [],
   "source": [
    "percent_efg_B_2pt = (b_2pt_fgm + (0.5* PM3_B_Made))/b_2pt_fga"
   ]
  },
  {
   "cell_type": "code",
   "execution_count": 151,
   "id": "43a4afa7",
   "metadata": {},
   "outputs": [
    {
     "data": {
      "text/plain": [
       "0.5828220858895705"
      ]
     },
     "execution_count": 151,
     "metadata": {},
     "output_type": "execute_result"
    }
   ],
   "source": [
    "percent_efg_B_2pt"
   ]
  },
  {
   "cell_type": "markdown",
   "id": "e3f8998a",
   "metadata": {},
   "source": [
    "#### %ePG TEAM_B C3"
   ]
  },
  {
   "cell_type": "markdown",
   "id": "f5147b5a",
   "metadata": {},
   "source": [
    "###### FGA"
   ]
  },
  {
   "cell_type": "code",
   "execution_count": 152,
   "id": "1c166fd0",
   "metadata": {},
   "outputs": [],
   "source": [
    "b_c3_fga = Team_B_efg.xs('C3')['Radius'].sum() "
   ]
  },
  {
   "cell_type": "code",
   "execution_count": 153,
   "id": "4adb88f9",
   "metadata": {},
   "outputs": [
    {
     "data": {
      "text/plain": [
       "21"
      ]
     },
     "execution_count": 153,
     "metadata": {},
     "output_type": "execute_result"
    }
   ],
   "source": [
    "b_c3_fga\n",
    "\n",
    "# FGA for Team B for C3 zone. "
   ]
  },
  {
   "cell_type": "markdown",
   "id": "0d51ccaf",
   "metadata": {},
   "source": [
    "###### FGM"
   ]
  },
  {
   "cell_type": "code",
   "execution_count": 154,
   "id": "7bc126cc",
   "metadata": {},
   "outputs": [],
   "source": [
    "b_c3_fgm = Team_B_efg.xs('C3')['Radius'].loc[1]"
   ]
  },
  {
   "cell_type": "code",
   "execution_count": 155,
   "id": "f4d502c4",
   "metadata": {},
   "outputs": [
    {
     "data": {
      "text/plain": [
       "5"
      ]
     },
     "execution_count": 155,
     "metadata": {},
     "output_type": "execute_result"
    }
   ],
   "source": [
    "b_c3_fgm\n",
    "\n",
    "# FGM for Team B for C3 zone. "
   ]
  },
  {
   "cell_type": "markdown",
   "id": "5523e5b7",
   "metadata": {},
   "source": [
    "###### % efg"
   ]
  },
  {
   "cell_type": "code",
   "execution_count": 158,
   "id": "bfb9a94e",
   "metadata": {},
   "outputs": [],
   "source": [
    "percent_efg_B_c3 = (b_c3_fgm + (0.5*PM3_B_Made))/b_c3_fga"
   ]
  },
  {
   "cell_type": "code",
   "execution_count": 159,
   "id": "d6204b59",
   "metadata": {},
   "outputs": [
    {
     "data": {
      "text/plain": [
       "1.1904761904761905"
      ]
     },
     "execution_count": 159,
     "metadata": {},
     "output_type": "execute_result"
    }
   ],
   "source": [
    "percent_efg_B_c3"
   ]
  },
  {
   "cell_type": "markdown",
   "id": "1443bb31",
   "metadata": {},
   "source": [
    "#### %ePG TEAM_C NC3"
   ]
  },
  {
   "cell_type": "markdown",
   "id": "03a21c9f",
   "metadata": {},
   "source": [
    "###### FGA"
   ]
  },
  {
   "cell_type": "code",
   "execution_count": 172,
   "id": "12ad962b",
   "metadata": {},
   "outputs": [],
   "source": [
    "b_nc3_fga = Team_B_efg.xs('NC3')['Radius'].sum() "
   ]
  },
  {
   "cell_type": "code",
   "execution_count": 173,
   "id": "a4d53712",
   "metadata": {},
   "outputs": [
    {
     "data": {
      "text/plain": [
       "96"
      ]
     },
     "execution_count": 173,
     "metadata": {},
     "output_type": "execute_result"
    }
   ],
   "source": [
    "b_nc3_fga\n",
    "\n",
    "# FGA for Team B for NC3 zone. "
   ]
  },
  {
   "cell_type": "markdown",
   "id": "1c52e469",
   "metadata": {},
   "source": [
    "###### FGM"
   ]
  },
  {
   "cell_type": "code",
   "execution_count": 174,
   "id": "b5458474",
   "metadata": {},
   "outputs": [],
   "source": [
    "b_nc3_fgm = Team_B_efg.xs('NC3')['Radius'].loc[1]"
   ]
  },
  {
   "cell_type": "code",
   "execution_count": 175,
   "id": "c38727e7",
   "metadata": {},
   "outputs": [
    {
     "data": {
      "text/plain": [
       "35"
      ]
     },
     "execution_count": 175,
     "metadata": {},
     "output_type": "execute_result"
    }
   ],
   "source": [
    "b_nc3_fgm\n",
    "\n",
    "# FGM for Team B for NC3 zone. "
   ]
  },
  {
   "cell_type": "markdown",
   "id": "5c2b00cf",
   "metadata": {},
   "source": [
    "###### %ePG"
   ]
  },
  {
   "cell_type": "code",
   "execution_count": 176,
   "id": "6b9bafe2",
   "metadata": {},
   "outputs": [],
   "source": [
    "percent_efg_B_nc3 = (b_nc3_fgm + (0.5 * PM3_B_Made))/b_nc3_fga"
   ]
  },
  {
   "cell_type": "code",
   "execution_count": 177,
   "id": "5deb1dd1",
   "metadata": {},
   "outputs": [
    {
     "data": {
      "text/plain": [
       "0.5729166666666666"
      ]
     },
     "execution_count": 177,
     "metadata": {},
     "output_type": "execute_result"
    }
   ],
   "source": [
    "percent_efg_B_nc3"
   ]
  },
  {
   "cell_type": "code",
   "execution_count": null,
   "id": "87bfaa15",
   "metadata": {},
   "outputs": [],
   "source": []
  }
 ],
 "metadata": {
  "kernelspec": {
   "display_name": "Python 3",
   "language": "python",
   "name": "python3"
  },
  "language_info": {
   "codemirror_mode": {
    "name": "ipython",
    "version": 3
   },
   "file_extension": ".py",
   "mimetype": "text/x-python",
   "name": "python",
   "nbconvert_exporter": "python",
   "pygments_lexer": "ipython3",
   "version": "3.8.8"
  }
 },
 "nbformat": 4,
 "nbformat_minor": 5
}
